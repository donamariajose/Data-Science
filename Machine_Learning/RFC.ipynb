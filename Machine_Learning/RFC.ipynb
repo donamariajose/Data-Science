{
 "cells": [
  {
   "cell_type": "code",
   "execution_count": 36,
   "id": "df8fe1bb",
   "metadata": {},
   "outputs": [
    {
     "data": {
      "text/html": [
       "<div>\n",
       "<style scoped>\n",
       "    .dataframe tbody tr th:only-of-type {\n",
       "        vertical-align: middle;\n",
       "    }\n",
       "\n",
       "    .dataframe tbody tr th {\n",
       "        vertical-align: top;\n",
       "    }\n",
       "\n",
       "    .dataframe thead th {\n",
       "        text-align: right;\n",
       "    }\n",
       "</style>\n",
       "<table border=\"1\" class=\"dataframe\">\n",
       "  <thead>\n",
       "    <tr style=\"text-align: right;\">\n",
       "      <th></th>\n",
       "      <th>age</th>\n",
       "      <th>interest</th>\n",
       "      <th>success</th>\n",
       "    </tr>\n",
       "  </thead>\n",
       "  <tbody>\n",
       "    <tr>\n",
       "      <th>0</th>\n",
       "      <td>23.657801</td>\n",
       "      <td>18.859917</td>\n",
       "      <td>0.0</td>\n",
       "    </tr>\n",
       "    <tr>\n",
       "      <th>1</th>\n",
       "      <td>22.573729</td>\n",
       "      <td>17.969223</td>\n",
       "      <td>0.0</td>\n",
       "    </tr>\n",
       "    <tr>\n",
       "      <th>2</th>\n",
       "      <td>32.553424</td>\n",
       "      <td>29.463651</td>\n",
       "      <td>0.0</td>\n",
       "    </tr>\n",
       "    <tr>\n",
       "      <th>3</th>\n",
       "      <td>6.718035</td>\n",
       "      <td>25.704665</td>\n",
       "      <td>1.0</td>\n",
       "    </tr>\n",
       "    <tr>\n",
       "      <th>4</th>\n",
       "      <td>14.401919</td>\n",
       "      <td>16.770856</td>\n",
       "      <td>0.0</td>\n",
       "    </tr>\n",
       "    <tr>\n",
       "      <th>...</th>\n",
       "      <td>...</td>\n",
       "      <td>...</td>\n",
       "      <td>...</td>\n",
       "    </tr>\n",
       "    <tr>\n",
       "      <th>292</th>\n",
       "      <td>27.697220</td>\n",
       "      <td>18.799309</td>\n",
       "      <td>0.0</td>\n",
       "    </tr>\n",
       "    <tr>\n",
       "      <th>293</th>\n",
       "      <td>15.150959</td>\n",
       "      <td>72.000352</td>\n",
       "      <td>1.0</td>\n",
       "    </tr>\n",
       "    <tr>\n",
       "      <th>294</th>\n",
       "      <td>22.264378</td>\n",
       "      <td>68.453459</td>\n",
       "      <td>1.0</td>\n",
       "    </tr>\n",
       "    <tr>\n",
       "      <th>295</th>\n",
       "      <td>25.677420</td>\n",
       "      <td>90.118212</td>\n",
       "      <td>1.0</td>\n",
       "    </tr>\n",
       "    <tr>\n",
       "      <th>296</th>\n",
       "      <td>21.215594</td>\n",
       "      <td>48.265520</td>\n",
       "      <td>1.0</td>\n",
       "    </tr>\n",
       "  </tbody>\n",
       "</table>\n",
       "<p>297 rows × 3 columns</p>\n",
       "</div>"
      ],
      "text/plain": [
       "           age   interest  success\n",
       "0    23.657801  18.859917      0.0\n",
       "1    22.573729  17.969223      0.0\n",
       "2    32.553424  29.463651      0.0\n",
       "3     6.718035  25.704665      1.0\n",
       "4    14.401919  16.770856      0.0\n",
       "..         ...        ...      ...\n",
       "292  27.697220  18.799309      0.0\n",
       "293  15.150959  72.000352      1.0\n",
       "294  22.264378  68.453459      1.0\n",
       "295  25.677420  90.118212      1.0\n",
       "296  21.215594  48.265520      1.0\n",
       "\n",
       "[297 rows x 3 columns]"
      ]
     },
     "execution_count": 36,
     "metadata": {},
     "output_type": "execute_result"
    }
   ],
   "source": [
    "# Application of Decision tree and Random forest classifier algorithm to build data model\n",
    "import pandas as pd\n",
    "import numpy as np\n",
    "from sklearn.model_selection import train_test_split\n",
    "from sklearn.tree import DecisionTreeClassifier as DTC\n",
    "from sklearn.ensemble import RandomForestClassifier as RFC\n",
    "\n",
    "# reading data\n",
    "data=pd.read_csv('C:/Users/donad/OneDrive/Desktop/Internship/1_Machine Learning/4_Supervised_Learning/Classification/Datasets/classification.csv')\n",
    "data"
   ]
  },
  {
   "cell_type": "code",
   "execution_count": 37,
   "id": "faf4a99a",
   "metadata": {},
   "outputs": [
    {
     "data": {
      "text/plain": [
       "age         0\n",
       "interest    0\n",
       "success     0\n",
       "dtype: int64"
      ]
     },
     "execution_count": 37,
     "metadata": {},
     "output_type": "execute_result"
    }
   ],
   "source": [
    "# check for null value\n",
    "data.isnull().sum()"
   ]
  },
  {
   "cell_type": "code",
   "execution_count": 38,
   "id": "1d00dea5",
   "metadata": {},
   "outputs": [
    {
     "data": {
      "text/plain": [
       "0"
      ]
     },
     "execution_count": 38,
     "metadata": {},
     "output_type": "execute_result"
    }
   ],
   "source": [
    "# check for dupplicates\n",
    "data.duplicated().sum()"
   ]
  },
  {
   "cell_type": "code",
   "execution_count": 39,
   "id": "84cf4c55",
   "metadata": {},
   "outputs": [
    {
     "data": {
      "text/plain": [
       "array([1., 0., 1., 1., 0., 1., 0., 1., 1., 1., 0., 0., 1., 1., 1., 0., 1.,\n",
       "       1., 1., 1., 0., 1., 0., 0., 0., 0., 0., 1., 1., 0., 0., 0., 1., 1.,\n",
       "       1., 1., 1., 1., 1., 0., 0., 0., 0., 1., 1., 0., 1., 0., 1., 1., 0.,\n",
       "       1., 1., 1., 0., 1., 1., 0., 1., 1.])"
      ]
     },
     "execution_count": 39,
     "metadata": {},
     "output_type": "execute_result"
    }
   ],
   "source": [
    "# splitting to train and test\n",
    "train,test=train_test_split(data,test_size=0.2)\n",
    "trainx=train.iloc[:,0:2]\n",
    "trainy=train.iloc[:,2]\n",
    "testx=test.iloc[:,0:2]\n",
    "testy=test.iloc[:,2]\n",
    "\n",
    "# model building\n",
    "dt=DTC(criterion='entropy')\n",
    "modeldt=dt.fit(trainx,trainy).predict(testx)\n",
    "modeldt"
   ]
  },
  {
   "cell_type": "code",
   "execution_count": 40,
   "id": "c79d8d4e",
   "metadata": {},
   "outputs": [
    {
     "data": {
      "text/plain": [
       "97     1.0\n",
       "267    0.0\n",
       "101    1.0\n",
       "143    1.0\n",
       "137    0.0\n",
       "35     1.0\n",
       "170    1.0\n",
       "140    1.0\n",
       "83     1.0\n",
       "72     1.0\n",
       "71     0.0\n",
       "182    0.0\n",
       "119    1.0\n",
       "103    0.0\n",
       "165    1.0\n",
       "79     0.0\n",
       "49     1.0\n",
       "134    1.0\n",
       "21     1.0\n",
       "50     1.0\n",
       "63     1.0\n",
       "64     1.0\n",
       "282    0.0\n",
       "87     0.0\n",
       "255    0.0\n",
       "34     0.0\n",
       "121    0.0\n",
       "210    1.0\n",
       "100    1.0\n",
       "51     0.0\n",
       "3      1.0\n",
       "118    0.0\n",
       "56     1.0\n",
       "48     1.0\n",
       "273    1.0\n",
       "231    1.0\n",
       "95     1.0\n",
       "135    1.0\n",
       "205    1.0\n",
       "148    0.0\n",
       "155    0.0\n",
       "250    0.0\n",
       "4      0.0\n",
       "187    1.0\n",
       "54     1.0\n",
       "185    0.0\n",
       "125    1.0\n",
       "156    0.0\n",
       "214    1.0\n",
       "223    1.0\n",
       "271    0.0\n",
       "191    1.0\n",
       "207    1.0\n",
       "42     0.0\n",
       "198    0.0\n",
       "179    1.0\n",
       "171    1.0\n",
       "1      0.0\n",
       "80     1.0\n",
       "46     1.0\n",
       "Name: success, dtype: float64"
      ]
     },
     "execution_count": 40,
     "metadata": {},
     "output_type": "execute_result"
    }
   ],
   "source": [
    "testy"
   ]
  },
  {
   "cell_type": "code",
   "execution_count": 41,
   "id": "438e0361",
   "metadata": {},
   "outputs": [
    {
     "data": {
      "text/plain": [
       "0.9166666666666666"
      ]
     },
     "execution_count": 41,
     "metadata": {},
     "output_type": "execute_result"
    }
   ],
   "source": [
    "# accuracy of decision tree\n",
    "acc=np.mean(modeldt==testy)\n",
    "acc"
   ]
  },
  {
   "cell_type": "code",
   "execution_count": 42,
   "id": "0c9228bc",
   "metadata": {},
   "outputs": [
    {
     "data": {
      "text/plain": [
       "[Text(0.6527777777777778, 0.9375, 'x[1] <= 49.229\\nentropy = 0.991\\nsamples = 237\\nvalue = [105, 132]'),\n",
       " Text(0.4166666666666667, 0.8125, 'x[0] <= 34.563\\nentropy = 0.702\\nsamples = 126\\nvalue = [102, 24]'),\n",
       " Text(0.3611111111111111, 0.6875, 'x[1] <= 42.513\\nentropy = 0.434\\nsamples = 112\\nvalue = [102, 10]'),\n",
       " Text(0.16666666666666666, 0.5625, 'x[1] <= 25.61\\nentropy = 0.197\\nsamples = 98\\nvalue = [95, 3]'),\n",
       " Text(0.1111111111111111, 0.4375, 'entropy = 0.0\\nsamples = 45\\nvalue = [45, 0]'),\n",
       " Text(0.2222222222222222, 0.4375, 'x[0] <= 14.733\\nentropy = 0.314\\nsamples = 53\\nvalue = [50, 3]'),\n",
       " Text(0.1111111111111111, 0.3125, 'x[0] <= 13.332\\nentropy = 0.971\\nsamples = 5\\nvalue = [3, 2]'),\n",
       " Text(0.05555555555555555, 0.1875, 'entropy = 0.0\\nsamples = 3\\nvalue = [3, 0]'),\n",
       " Text(0.16666666666666666, 0.1875, 'entropy = 0.0\\nsamples = 2\\nvalue = [0, 2]'),\n",
       " Text(0.3333333333333333, 0.3125, 'x[1] <= 25.66\\nentropy = 0.146\\nsamples = 48\\nvalue = [47, 1]'),\n",
       " Text(0.2777777777777778, 0.1875, 'entropy = 0.0\\nsamples = 1\\nvalue = [0, 1]'),\n",
       " Text(0.3888888888888889, 0.1875, 'entropy = 0.0\\nsamples = 47\\nvalue = [47, 0]'),\n",
       " Text(0.5555555555555556, 0.5625, 'x[0] <= 17.832\\nentropy = 1.0\\nsamples = 14\\nvalue = [7, 7]'),\n",
       " Text(0.5, 0.4375, 'entropy = 0.0\\nsamples = 5\\nvalue = [0, 5]'),\n",
       " Text(0.6111111111111112, 0.4375, 'x[0] <= 21.346\\nentropy = 0.764\\nsamples = 9\\nvalue = [7, 2]'),\n",
       " Text(0.5555555555555556, 0.3125, 'x[0] <= 20.27\\nentropy = 1.0\\nsamples = 4\\nvalue = [2, 2]'),\n",
       " Text(0.5, 0.1875, 'entropy = 0.0\\nsamples = 2\\nvalue = [2, 0]'),\n",
       " Text(0.6111111111111112, 0.1875, 'entropy = 0.0\\nsamples = 2\\nvalue = [0, 2]'),\n",
       " Text(0.6666666666666666, 0.3125, 'entropy = 0.0\\nsamples = 5\\nvalue = [5, 0]'),\n",
       " Text(0.4722222222222222, 0.6875, 'entropy = 0.0\\nsamples = 14\\nvalue = [0, 14]'),\n",
       " Text(0.8888888888888888, 0.8125, 'x[0] <= 17.141\\nentropy = 0.179\\nsamples = 111\\nvalue = [3, 108]'),\n",
       " Text(0.8333333333333334, 0.6875, 'x[0] <= 17.012\\nentropy = 0.516\\nsamples = 26\\nvalue = [3, 23]'),\n",
       " Text(0.7777777777777778, 0.5625, 'x[1] <= 61.434\\nentropy = 0.402\\nsamples = 25\\nvalue = [2, 23]'),\n",
       " Text(0.7222222222222222, 0.4375, 'entropy = 0.0\\nsamples = 12\\nvalue = [0, 12]'),\n",
       " Text(0.8333333333333334, 0.4375, 'x[1] <= 66.88\\nentropy = 0.619\\nsamples = 13\\nvalue = [2, 11]'),\n",
       " Text(0.7777777777777778, 0.3125, 'x[0] <= 10.575\\nentropy = 1.0\\nsamples = 4\\nvalue = [2, 2]'),\n",
       " Text(0.7222222222222222, 0.1875, 'entropy = 0.0\\nsamples = 1\\nvalue = [1, 0]'),\n",
       " Text(0.8333333333333334, 0.1875, 'x[0] <= 15.013\\nentropy = 0.918\\nsamples = 3\\nvalue = [1, 2]'),\n",
       " Text(0.7777777777777778, 0.0625, 'entropy = 0.0\\nsamples = 2\\nvalue = [0, 2]'),\n",
       " Text(0.8888888888888888, 0.0625, 'entropy = 0.0\\nsamples = 1\\nvalue = [1, 0]'),\n",
       " Text(0.8888888888888888, 0.3125, 'entropy = 0.0\\nsamples = 9\\nvalue = [0, 9]'),\n",
       " Text(0.8888888888888888, 0.5625, 'entropy = 0.0\\nsamples = 1\\nvalue = [1, 0]'),\n",
       " Text(0.9444444444444444, 0.6875, 'entropy = 0.0\\nsamples = 85\\nvalue = [0, 85]')]"
      ]
     },
     "execution_count": 42,
     "metadata": {},
     "output_type": "execute_result"
    },
    {
     "data": {
      "image/png": "[encoded data removed]",
      "text/plain": [
       "<Figure size 640x480 with 1 Axes>"
      ]
     },
     "metadata": {},
     "output_type": "display_data"
    }
   ],
   "source": [
    "# plotting tree\n",
    "from sklearn import tree\n",
    "tree.plot_tree(dt)"
   ]
  },
  {
   "cell_type": "code",
   "execution_count": 43,
   "id": "3ff1fcbb",
   "metadata": {},
   "outputs": [
    {
     "data": {
      "text/plain": [
       "array([1., 0., 1., 1., 0., 1., 0., 1., 1., 1., 0., 0., 1., 1., 1., 0., 1.,\n",
       "       1., 1., 1., 1., 1., 0., 0., 0., 0., 0., 1., 1., 0., 0., 0., 1., 1.,\n",
       "       1., 1., 1., 1., 1., 0., 0., 0., 0., 1., 1., 0., 1., 0., 1., 1., 0.,\n",
       "       1., 1., 0., 0., 1., 1., 0., 1., 1.])"
      ]
     },
     "execution_count": 43,
     "metadata": {},
     "output_type": "execute_result"
    }
   ],
   "source": [
    "# Random forest model building\n",
    "rf=RFC(n_jobs=2,n_estimators=100,oob_score=True,criterion='entropy')\n",
    "predrf=rf.fit(trainx,trainy).predict(testx)\n",
    "predrf"
   ]
  },
  {
   "cell_type": "code",
   "execution_count": 44,
   "id": "df8442ae",
   "metadata": {},
   "outputs": [
    {
     "data": {
      "text/plain": [
       "97     1.0\n",
       "267    0.0\n",
       "101    1.0\n",
       "143    1.0\n",
       "137    0.0\n",
       "35     1.0\n",
       "170    1.0\n",
       "140    1.0\n",
       "83     1.0\n",
       "72     1.0\n",
       "71     0.0\n",
       "182    0.0\n",
       "119    1.0\n",
       "103    0.0\n",
       "165    1.0\n",
       "79     0.0\n",
       "49     1.0\n",
       "134    1.0\n",
       "21     1.0\n",
       "50     1.0\n",
       "63     1.0\n",
       "64     1.0\n",
       "282    0.0\n",
       "87     0.0\n",
       "255    0.0\n",
       "34     0.0\n",
       "121    0.0\n",
       "210    1.0\n",
       "100    1.0\n",
       "51     0.0\n",
       "3      1.0\n",
       "118    0.0\n",
       "56     1.0\n",
       "48     1.0\n",
       "273    1.0\n",
       "231    1.0\n",
       "95     1.0\n",
       "135    1.0\n",
       "205    1.0\n",
       "148    0.0\n",
       "155    0.0\n",
       "250    0.0\n",
       "4      0.0\n",
       "187    1.0\n",
       "54     1.0\n",
       "185    0.0\n",
       "125    1.0\n",
       "156    0.0\n",
       "214    1.0\n",
       "223    1.0\n",
       "271    0.0\n",
       "191    1.0\n",
       "207    1.0\n",
       "42     0.0\n",
       "198    0.0\n",
       "179    1.0\n",
       "171    1.0\n",
       "1      0.0\n",
       "80     1.0\n",
       "46     1.0\n",
       "Name: success, dtype: float64"
      ]
     },
     "execution_count": 44,
     "metadata": {},
     "output_type": "execute_result"
    }
   ],
   "source": [
    "testy"
   ]
  },
  {
   "cell_type": "code",
   "execution_count": 45,
   "id": "4243f154",
   "metadata": {},
   "outputs": [
    {
     "data": {
      "text/plain": [
       "0.95"
      ]
     },
     "execution_count": 45,
     "metadata": {},
     "output_type": "execute_result"
    }
   ],
   "source": [
    "# random forest accuracy\n",
    "acc1=np.mean(predrf==testy)\n",
    "acc1"
   ]
  }
 ],
 "metadata": {
  "kernelspec": {
   "display_name": "Python 3 (ipykernel)",
   "language": "python",
   "name": "python3"
  },
  "language_info": {
   "codemirror_mode": {
    "name": "ipython",
    "version": 3
   },
   "file_extension": ".py",
   "mimetype": "text/x-python",
   "name": "python",
   "nbconvert_exporter": "python",
   "pygments_lexer": "ipython3",
   "version": "3.11.4"
  }
 },
 "nbformat": 4,
 "nbformat_minor": 5
}
