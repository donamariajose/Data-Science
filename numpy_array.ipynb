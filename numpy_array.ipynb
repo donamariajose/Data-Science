{
 "cells": [
  {
   "cell_type": "code",
   "execution_count": 1,
   "id": "1ef68102",
   "metadata": {},
   "outputs": [],
   "source": [
    "# numpy array operations\n",
    "import numpy as np"
   ]
  },
  {
   "cell_type": "code",
   "execution_count": 8,
   "id": "3c533c5c",
   "metadata": {},
   "outputs": [
    {
     "name": "stdout",
     "output_type": "stream",
     "text": [
      "float array= [1.1 2.8 3.  4.5]\n",
      "int array= [1 2 3 4]\n"
     ]
    },
    {
     "data": {
      "text/plain": [
       "dtype('int32')"
      ]
     },
     "execution_count": 8,
     "metadata": {},
     "output_type": "execute_result"
    }
   ],
   "source": [
    "# Datatype conversion(flot to int)\n",
    "a=np.array([1.1,2.8,3.0,4.5])\n",
    "b=a.astype(int)\n",
    "\n",
    "print(\"float array=\",a)\n",
    "print(\"int array=\",b)\n",
    "b.dtype"
   ]
  },
  {
   "cell_type": "code",
   "execution_count": 9,
   "id": "1f82bc54",
   "metadata": {},
   "outputs": [
    {
     "name": "stdout",
     "output_type": "stream",
     "text": [
      "binary array= [1 0 0 0 1]\n",
      "boolean array= [ True False False False  True]\n"
     ]
    }
   ],
   "source": [
    "# Datatype conversion(binary to boolean)\n",
    "a=np.array([1,0,0,0,1])\n",
    "b=a.astype(bool)\n",
    "\n",
    "print(\"binary array=\",a)\n",
    "print(\"boolean array=\",b)"
   ]
  },
  {
   "cell_type": "code",
   "execution_count": 11,
   "id": "9514a2e4",
   "metadata": {},
   "outputs": [
    {
     "name": "stdout",
     "output_type": "stream",
     "text": [
      "original matrix\n",
      " [[1 2 3]\n",
      " [4 5 6]\n",
      " [7 8 9]]\n",
      "\n",
      "matrix after transpose\n",
      " [[1 4 7]\n",
      " [2 5 8]\n",
      " [3 6 9]]\n"
     ]
    }
   ],
   "source": [
    "# transpose of a matrix\n",
    "a=np.array([[1,2,3],[4,5,6],[7,8,9]])\n",
    "b=a.transpose()\n",
    "\n",
    "print(\"original matrix\\n\",a)\n",
    "print(\"\\nmatrix after transpose\\n\",b)"
   ]
  },
  {
   "cell_type": "code",
   "execution_count": 13,
   "id": "a73d6ed8",
   "metadata": {},
   "outputs": [
    {
     "name": "stdout",
     "output_type": "stream",
     "text": [
      "original matrix\n",
      " [3 7 4 2 9 1]\n",
      "\n",
      "sorted array indexes\n",
      " [5 3 0 2 1 4]\n"
     ]
    }
   ],
   "source": [
    "# Sorting array and printing the sorted element indexes\n",
    "a=np.array([3,7,4,2,9,1])\n",
    "b=np.argsort(a)\n",
    "print(\"original matrix\\n\",a)\n",
    "print(\"\\nsorted array indexes\\n\",b)"
   ]
  },
  {
   "cell_type": "code",
   "execution_count": 2,
   "id": "1725be19",
   "metadata": {},
   "outputs": [
    {
     "name": "stdout",
     "output_type": "stream",
     "text": [
      "a\n",
      " [[2 4 6]\n",
      " [1 7 9]]\n",
      "\n",
      "b\n",
      " [[15 44 61]\n",
      " [11 81  0]]\n",
      "\n",
      "matrix after addition\n",
      " [[17 48 67]\n",
      " [12 88  9]]\n"
     ]
    }
   ],
   "source": [
    "# sum of the 2 numpy arrays\n",
    "a=np.array([[2,4,6],[1,7,9]])\n",
    "b=np.array([[15,44,61],[11,81,0]])\n",
    "\n",
    "c=np.add(a,b)\n",
    "\n",
    "print(\"a\\n\",a)\n",
    "print(\"\\nb\\n\",b)\n",
    "print(\"\\nmatrix after addition\\n\",c)"
   ]
  },
  {
   "cell_type": "code",
   "execution_count": 3,
   "id": "c2fd175c",
   "metadata": {},
   "outputs": [
    {
     "name": "stdout",
     "output_type": "stream",
     "text": [
      "original matrix\n",
      " [[2 4 6]\n",
      " [1 7 9]]\n",
      "\n",
      "matrix after scalar multiplication\n",
      " [[ 8 16 24]\n",
      " [ 4 28 36]]\n"
     ]
    }
   ],
   "source": [
    "# scalar multiplication\n",
    "a=np.array([[2,4,6],[1,7,9]])\n",
    "\n",
    "b=a*4\n",
    "\n",
    "print(\"original matrix\\n\",a)\n",
    "print(\"\\nmatrix after scalar multiplication\\n\",b)\n"
   ]
  },
  {
   "cell_type": "code",
   "execution_count": 4,
   "id": "63214f6c",
   "metadata": {},
   "outputs": [
    {
     "name": "stdout",
     "output_type": "stream",
     "text": [
      "1-D array\n",
      " [ 2  4  6  2  1  8  5  9  5 10 11 12]\n",
      "\n",
      "3-D array\n",
      " [[[ 2  4]\n",
      "  [ 6  2]\n",
      "  [ 1  8]]\n",
      "\n",
      " [[ 5  9]\n",
      "  [ 5 10]\n",
      "  [11 12]]]\n"
     ]
    }
   ],
   "source": [
    "# 1-D array to a 3-D array\n",
    "a=np.array([2,4,6,2,1,8,5,9,5,10,11,12])\n",
    "\n",
    "b=a.reshape(2,3,2)\n",
    "\n",
    "print('1-D array\\n',a)\n",
    "print('\\n3-D array\\n',b)"
   ]
  },
  {
   "cell_type": "code",
   "execution_count": 5,
   "id": "5edbc7e6",
   "metadata": {},
   "outputs": [
    {
     "name": "stdout",
     "output_type": "stream",
     "text": [
      "array 1\n",
      " [ 2  4  6  2  1  8  5  9  5 10 11 12]\n",
      "\n",
      "array 2\n",
      " [ 2  9  1  0  1  2  7  1  4 10  1  2]\n",
      "\n",
      "matching indexes: (array([0, 4, 9], dtype=int64),)\n"
     ]
    }
   ],
   "source": [
    "# printing the indexes in which the elements in the 2 arrays match\n",
    "a=np.array([2,4,6,2,1,8,5,9,5,10,11,12])\n",
    "b=np.array([2,9,1,0,1,2,7,1,4,10,1,2])\n",
    "\n",
    "c=np.where(a==b)\n",
    "\n",
    "print('array 1\\n',a)\n",
    "print('\\narray 2\\n',b)\n",
    "print(\"\\nmatching indexes:\",c)"
   ]
  },
  {
   "cell_type": "code",
   "execution_count": 6,
   "id": "408017be",
   "metadata": {},
   "outputs": [
    {
     "name": "stdout",
     "output_type": "stream",
     "text": [
      "original array after assigning to original [ 2  4 12  2  1  8  5]\n",
      "copy array after assigning to original [2 4 6 2 1 8 5]\n",
      "\n",
      "copy array after assigning to copy [ 2  4 12  2  1  8  5]\n",
      "view array after assigning to copy [ 2  4 12  2  1  8  5]\n"
     ]
    }
   ],
   "source": [
    "# views and copy of numpy\n",
    "a=np.array([2,4,6,2,1,8,5])\n",
    "b=a.copy()\n",
    "a[2]=12\n",
    "print(\"original array after assigning to original\",a)\n",
    "print(\"copy array after assigning to original\",b)\n",
    "\n",
    "c=b.view()\n",
    "b[2]=12\n",
    "print(\"\\ncopy array after assigning to copy\",b)\n",
    "print(\"view array after assigning to copy\",c)"
   ]
  },
  {
   "cell_type": "code",
   "execution_count": 7,
   "id": "0de0d6e0",
   "metadata": {},
   "outputs": [
    {
     "name": "stdout",
     "output_type": "stream",
     "text": [
      "even elements: [2, 4, 6, 2, 8, 10, 12]\n",
      "\n",
      "elements > 10: [11, 12]\n"
     ]
    }
   ],
   "source": [
    "# Even elements in an array, elements greater than 10 in an array \n",
    "a=np.array([2,4,6,2,1,8,5,9,5,10,11,12])\n",
    "even=[]\n",
    "for i in a:\n",
    "    if(i%2==0):\n",
    "        even.append(i)\n",
    "print(\"even elements:\",even)\n",
    "\n",
    "g_10=[]\n",
    "for i in a:\n",
    "    if(i>10):\n",
    "        g_10.append(i)\n",
    "print(\"\\nelements > 10:\",g_10)\n"
   ]
  }
 ],
 "metadata": {
  "kernelspec": {
   "display_name": "Python 3 (ipykernel)",
   "language": "python",
   "name": "python3"
  },
  "language_info": {
   "codemirror_mode": {
    "name": "ipython",
    "version": 3
   },
   "file_extension": ".py",
   "mimetype": "text/x-python",
   "name": "python",
   "nbconvert_exporter": "python",
   "pygments_lexer": "ipython3",
   "version": "3.11.4"
  }
 },
 "nbformat": 4,
 "nbformat_minor": 5
}
