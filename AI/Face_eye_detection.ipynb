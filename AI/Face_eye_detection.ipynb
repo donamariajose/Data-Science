{
 "cells": [
  {
   "cell_type": "code",
   "execution_count": 34,
   "id": "a8f83100",
   "metadata": {},
   "outputs": [],
   "source": [
    "# face and eye detection in an image\n",
    "import cv2\n",
    "\n",
    "# Load the Haar cascade classifier for face and eye detection\n",
    "face_cascade=cv2.CascadeClassifier(r'C:/Users/donad/OneDrive/Desktop/Internship/2_AI/OpenCV/3_face_detection/Dataset/haarcascade_frontalface_default.xml')\n",
    "eye_cascade=cv2.CascadeClassifier(r'C:/Users/donad/OneDrive/Desktop/Internship/2_AI/OpenCV/3_face_detection/Dataset/haarcascade_eye.xml')\n",
    "\n",
    "# Load the image\n",
    "img=cv2.imread(r\"C:\\Users\\donad\\OneDrive\\Desktop\\Internship\\2_AI\\OpenCV\\3_face_detection\\Dataset\\group.jpg\")\n",
    "\n",
    "# convert image to grayscale\n",
    "gray=cv2.cvtColor(img, cv2.COLOR_BGR2GRAY)\n",
    "\n",
    "# detect faces in grayscale image\n",
    "faces=face_cascade.detectMultiScale(gray,1.1,5)\n",
    "\n",
    "# draw rectangles around the detected faces\n",
    "for(x,y,w,h) in faces:\n",
    "    cv2.rectangle(img,(x,y),(x+w,y+h),(255,0,0),4)  \n",
    "    \n",
    "    # Extract the region of interest (ROI) for eye detection\n",
    "    roi_gray = gray[y:y+h, x:x+w]\n",
    "    \n",
    "    #detect eye within each face region\n",
    "    eyes = eye_cascade.detectMultiScale(roi_gray,1.1,5)\n",
    "    for (ex, ey, ew, eh) in eyes:\n",
    "        center=(x+ex+ew//2,y+ey+eh//2)\n",
    "        radius=ew//2\n",
    "        cv2.circle(img,center,radius,(0,255,0),4)    \n",
    "        \n",
    "# display the face detected image    \n",
    "cv2.imshow('Image Detection',img)\n",
    "cv2.waitKey(0)\n",
    "cv2.destroyAllWindows()"
   ]
  }
 ],
 "metadata": {
  "kernelspec": {
   "display_name": "Python 3 (ipykernel)",
   "language": "python",
   "name": "python3"
  },
  "language_info": {
   "codemirror_mode": {
    "name": "ipython",
    "version": 3
   },
   "file_extension": ".py",
   "mimetype": "text/x-python",
   "name": "python",
   "nbconvert_exporter": "python",
   "pygments_lexer": "ipython3",
   "version": "3.11.4"
  }
 },
 "nbformat": 4,
 "nbformat_minor": 5
}
